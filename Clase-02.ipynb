{
 "cells": [
  {
   "attachments": {},
   "cell_type": "markdown",
   "metadata": {},
   "source": [
    "# Clase 02"
   ]
  },
  {
   "cell_type": "code",
   "execution_count": 5,
   "metadata": {},
   "outputs": [
    {
     "name": "stdout",
     "output_type": "stream",
     "text": [
      "Los numeros son iguales\n"
     ]
    }
   ],
   "source": [
    "No1 = int(input(\"Ingresa un numero\"))\n",
    "No2 = int(input(\"Ingresa otro numero\"))\n",
    "\n",
    "if No1 > No2:\n",
    "    print(f\"El numero mayor es {No1}\")\n",
    "elif No2 > No1:\n",
    "    print(f\"El numero es mayor {No2}\")\n",
    "else:\n",
    "    print(\"Los numeros son iguales\")"
   ]
  },
  {
   "cell_type": "code",
   "execution_count": 6,
   "metadata": {},
   "outputs": [
    {
     "name": "stdout",
     "output_type": "stream",
     "text": [
      "['Manzana', 'Platano', 'Peras']\n",
      "Manzana\n",
      "['Manzana', 'Platano', 'Peras', 'Naranja']\n",
      "['Manzana', 'Platano', 'Peras', 'Naranja']\n",
      "['Manzana', 'Platano', 'Peras', 'Naranja']\n"
     ]
    }
   ],
   "source": [
    "mis_frutas = [\"Manzana\", \"Platano\", \"Peras\"]\n",
    "print(mis_frutas)\n",
    "print(mis_frutas[0])\n",
    "mis_frutas.append(\"Naranja\")\n",
    "print(mis_frutas)\n",
    "mis_frutas[0:2]\n",
    "print(mis_frutas)\n",
    "mis_frutas[-2]\n",
    "print(mis_frutas)"
   ]
  },
  {
   "cell_type": "code",
   "execution_count": 7,
   "metadata": {},
   "outputs": [
    {
     "data": {
      "text/plain": [
       "'Vagabundo'"
      ]
     },
     "execution_count": 7,
     "metadata": {},
     "output_type": "execute_result"
    }
   ],
   "source": [
    "palabra = \"El castillo Vagabundo\"\n",
    "\n",
    "palabra[0:2]\n",
    "palabra [3:11]\n",
    "palabra [12:21]"
   ]
  },
  {
   "cell_type": "code",
   "execution_count": 8,
   "metadata": {},
   "outputs": [
    {
     "name": "stdout",
     "output_type": "stream",
     "text": [
      "[3, 5, 5, 6, 10, 13, 15, 17, 20, 20]\n",
      "[20, 20, 17, 15, 13, 10, 6, 5, 5, 3]\n",
      "[20, 20, 17, 15, 13, 10, 6, 5, 5, 3]\n"
     ]
    },
    {
     "data": {
      "text/plain": [
       "114"
      ]
     },
     "execution_count": 8,
     "metadata": {},
     "output_type": "execute_result"
    }
   ],
   "source": [
    "mis_numeros = [20, 15, 6, 3, 10, 20, 5, 13, 17, 5]\n",
    "mis_numeros.sort()\n",
    "print(mis_numeros)\n",
    "mis_numeros.sort(reverse=True)\n",
    "print(mis_numeros)\n",
    "mis_numeros.count(5)\n",
    "print(mis_numeros)\n",
    "\n",
    "sum(mis_numeros)"
   ]
  },
  {
   "cell_type": "code",
   "execution_count": null,
   "metadata": {},
   "outputs": [],
   "source": []
  }
 ],
 "metadata": {
  "kernelspec": {
   "display_name": "Python 3",
   "language": "python",
   "name": "python3"
  },
  "language_info": {
   "codemirror_mode": {
    "name": "ipython",
    "version": 3
   },
   "file_extension": ".py",
   "mimetype": "text/x-python",
   "name": "python",
   "nbconvert_exporter": "python",
   "pygments_lexer": "ipython3",
   "version": "3.11.0"
  },
  "orig_nbformat": 4,
  "vscode": {
   "interpreter": {
    "hash": "c261aea317cc0286b3b3261fbba9abdec21eaa57589985bb7a274bf54d6cc0a7"
   }
  }
 },
 "nbformat": 4,
 "nbformat_minor": 2
}
